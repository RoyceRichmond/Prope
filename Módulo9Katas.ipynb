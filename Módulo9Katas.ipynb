{
 "cells": [
  {
   "cell_type": "markdown",
   "metadata": {},
   "source": [
    "Ejercicio: Uso de funciones en Python"
   ]
  },
  {
   "cell_type": "code",
   "execution_count": 11,
   "metadata": {},
   "outputs": [
    {
     "name": "stdout",
     "output_type": "stream",
     "text": [
      "\n",
      "    el nivel de combustible en el tanque 1 es del 3%\n",
      "    el nivel de combustible en el tanque 2 es del 4%\n",
      "    el nivel de combustible en el tanque 3 es del 7%\n",
      "    y el promedio de los 3 es del 4.67%\n"
     ]
    }
   ],
   "source": [
    "def readings(lv1,lv2,lv3):\n",
    "    print(\"\"\"\n",
    "    el nivel de combustible en el tanque 1 es del {}%\n",
    "    el nivel de combustible en el tanque 2 es del {}%\n",
    "    el nivel de combustible en el tanque 3 es del {}%\n",
    "    y el promedio de los 3 es del {:.2f}%\"\"\".format(lv1,lv2,lv3,avg(lv1,lv2,lv3)))\n",
    "\n",
    "def avg(*readings):\n",
    "    return sum(list(readings))/len(readings)\n",
    "\n",
    "\n",
    "readings(3,4,7)"
   ]
  },
  {
   "cell_type": "markdown",
   "metadata": {},
   "source": [
    "\n",
    "Ejercicio 2: Trabajo con argumentos de palabra clave"
   ]
  },
  {
   "cell_type": "code",
   "execution_count": 13,
   "metadata": {},
   "outputs": [
    {
     "name": "stdout",
     "output_type": "stream",
     "text": [
      "\n",
      "    The current mission has a time to launch of 12:54,\n",
      "    an estimated flight time of 12hrs with destiny to Moon,\n",
      "    currently the External tank has a 40% of propellant\n",
      "    and the internal tank has a 59% of oxidizer\n",
      "    \n"
     ]
    }
   ],
   "source": [
    "def laun_report(time_to_launc,fligt,destiny,ext_tank,int_tank):\n",
    "    return \"\"\"\n",
    "    The current mission has a time to launch of {},\n",
    "    an estimated flight time of {}hrs with destiny to {},\n",
    "    currently the External tank has a {}% of propellant\n",
    "    and the internal tank has a {}% of oxidizer\n",
    "    \"\"\".format(time_to_launc,fligt,destiny,ext_tank,int_tank)\n",
    "print(laun_report(\"12:54\",12,\"Moon\",40,59))\n"
   ]
  },
  {
   "cell_type": "code",
   "execution_count": 52,
   "metadata": {},
   "outputs": [
    {
     "name": "stdout",
     "output_type": "stream",
     "text": [
      "\n",
      "    The current mission has a time to launch of 12:24:10,\n",
      "    an estimated flight time of 12hrs with destiny to Moon,\n",
      "    currently the fuel tanks have a 49.5% of capacity\n",
      "    \n"
     ]
    }
   ],
   "source": [
    "def laun_report(fligt,destiny,*time_to_launc,**tanks):\n",
    "    t_to_l=[str(a) for a in time_to_launc]\n",
    "    s_tanks=[a for a in tanks.values()]\n",
    "    return \"\"\"\n",
    "    The current mission has a time to launch of {},\n",
    "    an estimated flight time of {}hrs with destiny to {},\n",
    "    currently the fuel tanks have a {}% of capacity\n",
    "    \"\"\".format((':'.join(t_to_l)),fligt,destiny,sum(s_tanks)/2)\n",
    "\n",
    "print(laun_report(12,\"Moon\",12,24,10,main=40,secondary=59))"
   ]
  },
  {
   "cell_type": "code",
   "execution_count": 53,
   "metadata": {},
   "outputs": [
    {
     "name": "stdout",
     "output_type": "stream",
     "text": [
      "\n",
      "    The current mission has a time to launch of 12:24:10,\n",
      "    an estimated flight time of 12hrs with destiny to Moon,\n",
      "    currently The main tank has a capacity of 40%, The secondary tank has a capacity of 59%,  \n"
     ]
    }
   ],
   "source": [
    "def laun_report(fligt,destiny,*time_to_launc,**tanks):\n",
    "    t_to_l=[str(a) for a in time_to_launc]\n",
    "    n_tanks=[a for a in tanks.keys()]\n",
    "    capacity_tanks=''\n",
    "    for a in n_tanks:\n",
    "        capacity_tanks=capacity_tanks+'The {} tank has a capacity of {}%, '.format(a,tanks[a])\n",
    "    return \"\"\"\n",
    "    The current mission has a time to launch of {},\n",
    "    an estimated flight time of {}hrs with destiny to {},\n",
    "    currently {} \"\"\".format((':'.join(t_to_l)),fligt,destiny,capacity_tanks)\n",
    "\n",
    "print(laun_report(12,\"Moon\",12,24,10,main=40,secondary=59))\n"
   ]
  }
 ],
 "metadata": {
  "interpreter": {
   "hash": "03ab13218c583ab154059b3eab774e19bef650c8223b0c0e5828dd60f8962846"
  },
  "kernelspec": {
   "display_name": "Python 3.8.0 64-bit",
   "language": "python",
   "name": "python3"
  },
  "language_info": {
   "codemirror_mode": {
    "name": "ipython",
    "version": 3
   },
   "file_extension": ".py",
   "mimetype": "text/x-python",
   "name": "python",
   "nbconvert_exporter": "python",
   "pygments_lexer": "ipython3",
   "version": "3.8.0"
  },
  "orig_nbformat": 4
 },
 "nbformat": 4,
 "nbformat_minor": 2
}
