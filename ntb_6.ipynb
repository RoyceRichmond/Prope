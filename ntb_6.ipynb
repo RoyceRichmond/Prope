{
 "cells": [
  {
   "cell_type": "markdown",
   "metadata": {},
   "source": [
    "Ejercicio1: Crear y usar listas de Python"
   ]
  },
  {
   "cell_type": "code",
   "execution_count": 15,
   "metadata": {},
   "outputs": [
    {
     "name": "stdout",
     "output_type": "stream",
     "text": [
      "The planets of the solar system are 8\n"
     ]
    }
   ],
   "source": [
    "planetas=['Mercurio','Venus','Tierra','Marte','Júpiter','Saturno','Urano','Neptuno']\n",
    "\n",
    "print(\"The planets of the solar system are \"+str(len(planetas)))"
   ]
  },
  {
   "cell_type": "code",
   "execution_count": 16,
   "metadata": {},
   "outputs": [
    {
     "name": "stdout",
     "output_type": "stream",
     "text": [
      "The planets of the solar system are 9 and the last one is Pluton\n"
     ]
    }
   ],
   "source": [
    "planetas.append('Pluton')\n",
    "\n",
    "print(\"The planets of the solar system are \"+str(len(planetas))+\" and the last one is \"+planetas[-1])"
   ]
  },
  {
   "cell_type": "markdown",
   "metadata": {},
   "source": [
    "Ejercicio 2: Trabajando con datos de una lista"
   ]
  },
  {
   "cell_type": "code",
   "execution_count": 72,
   "metadata": {},
   "outputs": [
    {
     "name": "stdout",
     "output_type": "stream",
     "text": [
      "the Closests planets to the sun relative to Neptune are Mercury, Venus, Earth, Mars, Jupiter, Saturn\n"
     ]
    }
   ],
   "source": [
    "#Mostrar planetas más cercanos al sol que el que el usuario ingresó\n",
    "\n",
    "\n",
    "planets = ['Mercury', 'Venus', 'Earth', 'Mars', 'Jupiter', 'Saturn', 'Neptune']\n",
    "varp=input('Enter the name ofa planet, starting with a capital e.g. Earth')\n",
    "\n",
    "max=len(planets)-1\n",
    "pos=planets.index(varp)\n",
    "#print(pos)\n",
    "\n",
    "if pos!=0:\n",
    "    a=', '.join(planets[0:pos])\n",
    "    print(\"the Closests planets to the sun relative to \"+planets[pos]+\" are \"+a)\n",
    "else:\n",
    "    print(planets[pos]+\" is already the closest planet to the sun\")"
   ]
  },
  {
   "cell_type": "code",
   "execution_count": 73,
   "metadata": {},
   "outputs": [
    {
     "name": "stdout",
     "output_type": "stream",
     "text": [
      "Neptune is already the furthest planet from the sun\n"
     ]
    }
   ],
   "source": [
    "#Mostrar planetas más alejados del sol que el que el usuario ingresó\n",
    "\n",
    "if pos!=max:\n",
    "    a=', '.join(planets[pos+1:])\n",
    "    print(\"the furthest planets to the sun relative to \"+planets[pos]+\" are \"+a)\n",
    "else:\n",
    "    print(planets[pos]+\" is already the furthest planet from the sun\")"
   ]
  }
 ],
 "metadata": {
  "interpreter": {
   "hash": "d00c76d5ac9828e2f44a9e3a74d91198f73e2b76a86fc66b3ab3f9290d02c8fe"
  },
  "kernelspec": {
   "display_name": "Python 3.10.0 64-bit",
   "language": "python",
   "name": "python3"
  },
  "language_info": {
   "codemirror_mode": {
    "name": "ipython",
    "version": 3
   },
   "file_extension": ".py",
   "mimetype": "text/x-python",
   "name": "python",
   "nbconvert_exporter": "python",
   "pygments_lexer": "ipython3",
   "version": "3.10.0"
  },
  "orig_nbformat": 4
 },
 "nbformat": 4,
 "nbformat_minor": 2
}
