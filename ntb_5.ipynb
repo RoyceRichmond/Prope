{
 "cells": [
  {
   "cell_type": "code",
   "execution_count": 4,
   "metadata": {},
   "outputs": [
    {
     "name": "stdout",
     "output_type": "stream",
     "text": [
      "628949330\n",
      "390577534\n"
     ]
    }
   ],
   "source": [
    "Tierra=149597870\n",
    "Jupiter=778547200\n",
    "\n",
    "d_km=Jupiter-Tierra\n",
    "d_m=round(d_km*0.621)\n",
    "\n",
    "print(d_km)\n",
    "print(d_m)"
   ]
  },
  {
   "cell_type": "code",
   "execution_count": 6,
   "metadata": {},
   "outputs": [
    {
     "name": "stdout",
     "output_type": "stream",
     "text": [
      "la distancia entre estos dos planetas es de 50300000 kilometros que es igual a 31236300.0 millas\n"
     ]
    }
   ],
   "source": [
    "pl_1=input('Cual es la distancia respecto al sol del primer planeta ?')\n",
    "pl_2=input('Cual es la distancia respecto al sol del segundo planeta ?')\n",
    "\n",
    "num_pl_1=int(pl_1)\n",
    "num_pl_2=int(pl_2)\n",
    "\n",
    "\n",
    "distance_pl_1_vs_pl_2=abs(num_pl_2-num_pl_1)\n",
    "\n",
    "distance_millas=round(distance_pl_1_vs_pl_2*0.621)\n",
    "print(\"la distancia entre estos dos planetas es de {} kilometros que es igual a {} millas\".format(distance_pl_1_vs_pl_2,distance_millas))"
   ]
  }
 ],
 "metadata": {
  "interpreter": {
   "hash": "d00c76d5ac9828e2f44a9e3a74d91198f73e2b76a86fc66b3ab3f9290d02c8fe"
  },
  "kernelspec": {
   "display_name": "Python 3.10.0 64-bit",
   "language": "python",
   "name": "python3"
  },
  "language_info": {
   "codemirror_mode": {
    "name": "ipython",
    "version": 3
   },
   "file_extension": ".py",
   "mimetype": "text/x-python",
   "name": "python",
   "nbconvert_exporter": "python",
   "pygments_lexer": "ipython3",
   "version": "3.10.0"
  },
  "orig_nbformat": 4
 },
 "nbformat": 4,
 "nbformat_minor": 2
}
