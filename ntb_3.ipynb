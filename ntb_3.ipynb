{
 "cells": [
  {
   "cell_type": "markdown",
   "metadata": {},
   "source": [
    "# Añadir el código necesario para crear una variable que guarde la velocidad del asteroide.\n",
    "# Escribe una expresión de prueba para calcular si necesita una advertencia.\n",
    "# Agregue las instrucciones que se ejecutarán si la expresión de prueba es true o false."
   ]
  },
  {
   "cell_type": "code",
   "execution_count": 5,
   "metadata": {},
   "outputs": [],
   "source": [
    "v=input(\"velocidad del meteoro?\")\n",
    "if(v.isdigit()):\n",
    "    if (int(v)>25):\n",
    "        print(\"peligro, peligro, meteorito con velocidad de \"+v+\" km/s\")\n",
    "    else:\n",
    "        print(\"estamos a salvo, meteorito con velocidad de \"+v+\" km/s\")"
   ]
  },
  {
   "cell_type": "markdown",
   "metadata": {},
   "source": [
    "# Agrega el código para crear una variable para un asteroide que viaja a 19 km/s\n",
    "# Escribe varias expresiones de prueba para determinar si puedes ver el rayo de luz desde la tierra\n",
    "# Agrega las instrucciones que se ejecutarán si las expresiones de prueba son True o False"
   ]
  },
  {
   "cell_type": "code",
   "execution_count": 8,
   "metadata": {},
   "outputs": [
    {
     "name": "stdout",
     "output_type": "stream",
     "text": [
      "Hora de buscar, proximamente caera un rayo de luz\n"
     ]
    }
   ],
   "source": [
    "v=input(\"velocidad del meteoro?\")\n",
    "if(v.isdigit()):\n",
    "    if (int(v)>=20):\n",
    "        print(\"Hora de buscar, proximamente caera un rayo de luz\")\n",
    "    else:\n",
    "        print(\"No te preocupes, no hay nada interesante\")"
   ]
  },
  {
   "cell_type": "markdown",
   "metadata": {},
   "source": [
    "# Agrega el código para crear nuevas variables para la velocidad y el tamaño del asteroide\n",
    "# Para probar el código, prueba con varias velocidades y tamaños\n",
    "# Escribe varias expresiones de prueba o combinaciones de expresiones de prueba para determinar qué mensaje se debe enviar a Tierra."
   ]
  },
  {
   "cell_type": "code",
   "execution_count": 14,
   "metadata": {},
   "outputs": [
    {
     "name": "stdout",
     "output_type": "stream",
     "text": [
      "estamos por ver una estrella fugaz\n"
     ]
    }
   ],
   "source": [
    "v=input(\"velocidad del meteoro?\")\n",
    "tm=input(\"cual es el tamaño?\")\n",
    "if(v.isdigit() and tm.isdigit()):\n",
    "    if (int(v)>=25 and int(tm)>=15):\n",
    "        print(\"peligro, peligro, inminente destruccion :c\")\n",
    "    elif(int(v)>=20 and int(tm)<15 and  int(tm)>5):\n",
    "        print(\"Hora de buscar, proximamente caera un rayo de luz\")\n",
    "    elif(int(tm)<5):\n",
    "        print(\"estamos por ver una estrella fugaz\")\n"
   ]
  },
  {
   "cell_type": "code",
   "execution_count": null,
   "metadata": {},
   "outputs": [],
   "source": []
  }
 ],
 "metadata": {
  "interpreter": {
   "hash": "03ab13218c583ab154059b3eab774e19bef650c8223b0c0e5828dd60f8962846"
  },
  "kernelspec": {
   "display_name": "Python 3.8.0 64-bit",
   "language": "python",
   "name": "python3"
  },
  "language_info": {
   "codemirror_mode": {
    "name": "ipython",
    "version": 3
   },
   "file_extension": ".py",
   "mimetype": "text/x-python",
   "name": "python",
   "nbconvert_exporter": "python",
   "pygments_lexer": "ipython3",
   "version": "3.8.0"
  },
  "orig_nbformat": 4
 },
 "nbformat": 4,
 "nbformat_minor": 2
}
